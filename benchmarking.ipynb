{
 "cells": [
  {
   "cell_type": "code",
   "execution_count": null,
   "id": "b791fdf4",
   "metadata": {},
   "outputs": [
    {
     "name": "stdout",
     "output_type": "stream",
     "text": [
      "0.1.0\n"
     ]
    }
   ],
   "source": [
    "import blochK\n",
    "print(blochK.__version__)\n",
    "\n"
   ]
  },
  {
   "cell_type": "code",
   "execution_count": 60,
   "id": "1182e81b",
   "metadata": {},
   "outputs": [
    {
     "data": {
      "text/plain": [
       "1"
      ]
     },
     "execution_count": 60,
     "metadata": {},
     "output_type": "execute_result"
    }
   ],
   "source": [
    "np.array([1,2,3]).ndim"
   ]
  },
  {
   "cell_type": "code",
   "execution_count": 61,
   "id": "a5a6dab8",
   "metadata": {},
   "outputs": [],
   "source": [
    "import numpy as np\n",
    "from blochK.hamiltonian import Hamiltonian2D, BrillouinZone2D\n",
    "from blochK.hamiltonian_testing import Hamiltonian0\n",
    "\n",
    "\n",
    "def test_sampleBZ():\n",
    "    Lk = 5\n",
    "    BZ = BrillouinZone2D()\n",
    "    ks = BZ.sample(Lk)\n",
    "\n",
    "    [i, j] = np.random.randint(0,Lk-1,size=(2))\n",
    "    m1_mini = ks[:,i+1,j] - ks[:,i,j]\n",
    "    m2_mini = ks[:,i,j+1] - ks[:,i,j]\n",
    "    A_mini = np.abs(m1_mini[0]*m2_mini[1] - m1_mini[1]*m2_mini[0])\n",
    "    assert np.isclose(A_mini*Lk**2, BZ.area), \"Brillouin zone incorrectly sampled\"\n",
    "\n",
    "    # plt.scatter(*ks)\n",
    "    # plt.scatter(ks[0]+BZ.m1[0],ks[1]+BZ.m1[1])\n",
    "    # plt.scatter(ks[0]+BZ.m2[0],ks[1]+BZ.m2[1])\n",
    "\n",
    "def test_init_Hamiltonian2D():\n",
    "    H = Hamiltonian2D(Hamiltonian0, n1=np.array([1,0]), n2=np.array([0,1]))  # empty Hamiltonian2D object for testing\n",
    "\n",
    "    #check brillouin zone correctly defined\n",
    "    assert np.allclose(H.BZ.m1, 2*np.pi*np.array([1,0]))\n",
    "    assert np.allclose(H.BZ.m2, 2*np.pi*np.array([0,1]))\n",
    "\n",
    "    #add operator\n",
    "    H.add_operator('sz', np.array([[1,0],[0,-1]]))\n",
    "    assert np.allclose(H.operator.sz, np.array([[1,0],[0,-1]])), \"Operator not correctly added\"\n",
    "    H.add_operator('spin', np.array([1,-1]))\n",
    "    assert np.allclose(H.operator.spin, np.array([1,-1])), \"Operator not correctly added\"\n",
    "\n",
    "\n",
    "test_init_Hamiltonian2D()"
   ]
  },
  {
   "cell_type": "code",
   "execution_count": null,
   "id": "cb56e496",
   "metadata": {},
   "outputs": [
    {
     "data": {
      "text/plain": [
       "<matplotlib.collections.PathCollection at 0x11909eb60>"
      ]
     },
     "execution_count": 15,
     "metadata": {},
     "output_type": "execute_result"
    },
    {
     "data": {
      "image/png": "[encoded data removed]",
      "text/plain": [
       "<Figure size 640x480 with 1 Axes>"
      ]
     },
     "metadata": {},
     "output_type": "display_data"
    }
   ],
   "source": [
    "import matplotlib.pyplot as plt\n",
    "Lk = 11\n",
    "epsilon = 1/Lk\n",
    "m1 = np.array([2*pi,pi])\n",
    "m2 = np.array([pi,-2*pi])\n",
    "\n",
    "\n",
    "plt.scatter(*ks)\n",
    "\n",
    "plt.scatter(ks[0]+2*np.pi,ks[1]+np.pi)"
   ]
  },
  {
   "cell_type": "code",
   "execution_count": 38,
   "id": "71e0ec99",
   "metadata": {},
   "outputs": [
    {
     "ename": "ValueError",
     "evalue": "cannot reshape array of size 3 into shape (2,)",
     "output_type": "error",
     "traceback": [
      "\u001b[0;31m---------------------------------------------------------------------------\u001b[0m",
      "\u001b[0;31mValueError\u001b[0m                                Traceback (most recent call last)",
      "Cell \u001b[0;32mIn[38], line 53\u001b[0m\n\u001b[1;32m     49\u001b[0m     \u001b[38;5;28;01mreturn\u001b[39;00m Hk\n\u001b[1;32m     52\u001b[0m \u001b[38;5;66;03m# Create Hamiltonian2D object\u001b[39;00m\n\u001b[0;32m---> 53\u001b[0m Htest \u001b[38;5;241m=\u001b[39m \u001b[43mHamiltonian2D\u001b[49m\u001b[43m(\u001b[49m\u001b[43mHamiltonian0\u001b[49m\u001b[43m,\u001b[49m\u001b[43m \u001b[49m\u001b[43mbasis\u001b[49m\u001b[38;5;241;43m=\u001b[39;49m\u001b[43m[\u001b[49m\u001b[38;5;124;43m'\u001b[39;49m\u001b[38;5;124;43mup\u001b[39;49m\u001b[38;5;124;43m'\u001b[39;49m\u001b[43m,\u001b[49m\u001b[38;5;124;43m'\u001b[39;49m\u001b[38;5;124;43mdown\u001b[39;49m\u001b[38;5;124;43m'\u001b[39;49m\u001b[43m]\u001b[49m\u001b[43m)\u001b[49m\n",
      "Cell \u001b[0;32mIn[35], line 15\u001b[0m, in \u001b[0;36mHamiltonian2D.__init__\u001b[0;34m(self, Hamiltonian_func, n1, n2, basis, basis_states)\u001b[0m\n\u001b[1;32m     13\u001b[0m n2_3D \u001b[38;5;241m=\u001b[39m np\u001b[38;5;241m.\u001b[39marray([n2[\u001b[38;5;241m0\u001b[39m], n2[\u001b[38;5;241m1\u001b[39m], \u001b[38;5;241m0\u001b[39m])\n\u001b[1;32m     14\u001b[0m zunit \u001b[38;5;241m=\u001b[39m np\u001b[38;5;241m.\u001b[39marray([\u001b[38;5;241m0\u001b[39m,\u001b[38;5;241m0\u001b[39m,\u001b[38;5;241m1\u001b[39m])\n\u001b[0;32m---> 15\u001b[0m \u001b[38;5;28mself\u001b[39m\u001b[38;5;241m.\u001b[39mBZ \u001b[38;5;241m=\u001b[39m BrillouinZone2D(m1\u001b[38;5;241m=\u001b[39m\u001b[38;5;241m2\u001b[39m\u001b[38;5;241m*\u001b[39mpi\u001b[38;5;241m*\u001b[39mnp\u001b[38;5;241m.\u001b[39mcross(zunit,n2_3D)\u001b[38;5;241m/\u001b[39m\u001b[43mnp\u001b[49m\u001b[38;5;241;43m.\u001b[39;49m\u001b[43mvdot\u001b[49m\u001b[43m(\u001b[49m\u001b[43mn1\u001b[49m\u001b[43m,\u001b[49m\u001b[43mnp\u001b[49m\u001b[38;5;241;43m.\u001b[39;49m\u001b[43mcross\u001b[49m\u001b[43m(\u001b[49m\u001b[43mzunit\u001b[49m\u001b[43m,\u001b[49m\u001b[43mn2_3D\u001b[49m\u001b[43m)\u001b[49m\u001b[43m)\u001b[49m, m2\u001b[38;5;241m=\u001b[39m\u001b[38;5;241m2\u001b[39m\u001b[38;5;241m*\u001b[39mpi\u001b[38;5;241m*\u001b[39mnp\u001b[38;5;241m.\u001b[39mcross(zunit,n1_3D)\u001b[38;5;241m/\u001b[39mnp\u001b[38;5;241m.\u001b[39mvdot(n2,np\u001b[38;5;241m.\u001b[39mcross(zunit,n1_3D)))\n",
      "\u001b[0;31mValueError\u001b[0m: cannot reshape array of size 3 into shape (2,)"
     ]
    }
   ],
   "source": [
    "#defines a Hamiltonian solely for testing purposes\n",
    "\n",
    "import numpy as np\n",
    "from numpy import pi,cos,sin,exp\n",
    "\n",
    "#operators\n",
    "Spin_operator = np.array([1,-1]) #spin up +1, spin down -1\n",
    "\n",
    "#Definitions for the Square lattice\n",
    "#lattice vectors\n",
    "n1 = np.array([1,0])\n",
    "n2 = np.array([0,1])\n",
    "\n",
    "# Area of unit cell (2D cross product)\n",
    "A = n1[0]*n2[1] - n1[1]*n2[0]\n",
    "#reciprocal lattice vectors\n",
    "m1 = 2*np.pi/A * np.array([n2[1], -n2[0]])\n",
    "m2 = 2*np.pi/A * np.array([-n1[1], n1[0]])\n",
    "\n",
    "# Define High symmetry points in BZ\n",
    "points_BZ = {\n",
    "    \"\\Gamma\": [0,0],\n",
    "    \"X\": [1,0],\n",
    "    \"Y\": [0,1],\n",
    "    \"R\": [1,1],\n",
    "    \"R'\": [1,-1],\n",
    "    \"-R\": [-1,1],\n",
    "    \"-R'\": [-1,-1]\n",
    "}\n",
    "\n",
    "\n",
    "def Hamiltonian0(kx,ky,t=1,mu=-1): \n",
    "    \"\"\"\n",
    "    Simple 2D square lattice tight-binding model with NN hopping and chemical potential.\n",
    "    t: NN hopping\n",
    "    mu: chemical potential\n",
    "    \"\"\"\n",
    "    Hk = np.zeros((2,2,*kx.shape),dtype=complex) #Basis (up,down)\n",
    "\n",
    "    #set hamiltonian structure\n",
    "    Hk[0,0] = -2*t*cos(kx) - 2*t*cos(ky) - mu\n",
    "\n",
    "    #make hermitian\n",
    "    Hk[1,0] = np.conjugate(Hk[0,1])\n",
    "\n",
    "    #spin degenerate\n",
    "    Hk[1:,1:] = Hk[:1,:1]\n",
    "\n",
    "    return Hk\n",
    "\n",
    "\n",
    "# Create Hamiltonian2D object\n",
    "Htest = Hamiltonian2D(Hamiltonian0, basis=['up','down'])"
   ]
  },
  {
   "cell_type": "code",
   "execution_count": null,
   "id": "5ecf37bf",
   "metadata": {},
   "outputs": [],
   "source": []
  }
 ],
 "metadata": {
  "kernelspec": {
   "display_name": "blochk-env",
   "language": "python",
   "name": "python3"
  },
  "language_info": {
   "codemirror_mode": {
    "name": "ipython",
    "version": 3
   },
   "file_extension": ".py",
   "mimetype": "text/x-python",
   "name": "python",
   "nbconvert_exporter": "python",
   "pygments_lexer": "ipython3",
   "version": "3.10.18"
  }
 },
 "nbformat": 4,
 "nbformat_minor": 5
}
